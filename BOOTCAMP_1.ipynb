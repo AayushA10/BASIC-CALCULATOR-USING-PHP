{
  "nbformat": 4,
  "nbformat_minor": 0,
  "metadata": {
    "colab": {
      "provenance": [],
      "authorship_tag": "ABX9TyPdyiuxF7c2ohVYgtHBJglE",
      "include_colab_link": true
    },
    "kernelspec": {
      "name": "python3",
      "display_name": "Python 3"
    },
    "language_info": {
      "name": "python"
    }
  },
  "cells": [
    {
      "cell_type": "markdown",
      "metadata": {
        "id": "view-in-github",
        "colab_type": "text"
      },
      "source": [
        "<a href=\"https://colab.research.google.com/github/AayushA10/BASIC-CALCULATOR-USING-PHP/blob/main/BOOTCAMP_1.ipynb\" target=\"_parent\"><img src=\"https://colab.research.google.com/assets/colab-badge.svg\" alt=\"Open In Colab\"/></a>"
      ]
    },
    {
      "cell_type": "code",
      "execution_count": 2,
      "metadata": {
        "colab": {
          "base_uri": "https://localhost:8080/"
        },
        "id": "NAn8LNNOsCVA",
        "outputId": "56b974ce-b629-4b54-c23b-9ac3e5eb1028"
      },
      "outputs": [
        {
          "output_type": "stream",
          "name": "stdout",
          "text": [
            "Number of vowels in 'apple': 2\n"
          ]
        }
      ],
      "source": [
        "def count_vowels(word):\n",
        "    vowels = \"aeiouAEIOU\"\n",
        "    count = 0\n",
        "    for char in word:\n",
        "        if char in vowels:\n",
        "            count += 1\n",
        "    return count\n",
        "\n",
        "\n",
        "word = \"apple\"\n",
        "print(f\"Number of vowels in '{word}':\", count_vowels(word))\n"
      ]
    },
    {
      "cell_type": "code",
      "source": [
        "animals = ['tiger', 'elephant', 'monkey', 'zebra', 'panther']\n",
        "\n",
        "for animal in animals:\n",
        "    print(animal.upper())\n"
      ],
      "metadata": {
        "colab": {
          "base_uri": "https://localhost:8080/"
        },
        "id": "TXg6ckhAsG5O",
        "outputId": "8aade9ac-f82a-4f4f-93ef-dafb9926fd2c"
      },
      "execution_count": 3,
      "outputs": [
        {
          "output_type": "stream",
          "name": "stdout",
          "text": [
            "TIGER\n",
            "ELEPHANT\n",
            "MONKEY\n",
            "ZEBRA\n",
            "PANTHER\n"
          ]
        }
      ]
    },
    {
      "cell_type": "code",
      "source": [
        "for i in range(1, 21):\n",
        "    if i % 2 == 0:\n",
        "        print(f\"{i} is even\")\n",
        "    else:\n",
        "        print(f\"{i} is odd\")\n"
      ],
      "metadata": {
        "colab": {
          "base_uri": "https://localhost:8080/"
        },
        "id": "psJx1868sNMX",
        "outputId": "03ebcac6-cd5d-40b8-a48f-602b5c9e0c61"
      },
      "execution_count": 4,
      "outputs": [
        {
          "output_type": "stream",
          "name": "stdout",
          "text": [
            "1 is odd\n",
            "2 is even\n",
            "3 is odd\n",
            "4 is even\n",
            "5 is odd\n",
            "6 is even\n",
            "7 is odd\n",
            "8 is even\n",
            "9 is odd\n",
            "10 is even\n",
            "11 is odd\n",
            "12 is even\n",
            "13 is odd\n",
            "14 is even\n",
            "15 is odd\n",
            "16 is even\n",
            "17 is odd\n",
            "18 is even\n",
            "19 is odd\n",
            "20 is even\n"
          ]
        }
      ]
    },
    {
      "cell_type": "code",
      "source": [
        "def sum_of_integers(a, b):\n",
        "    return a + b\n",
        "\n",
        "\n",
        "a = int(input(\"Enter the first integer: \"))\n",
        "b = int(input(\"Enter the second integer: \"))\n",
        "print(f\"The sum of {a} and {b} is:\", sum_of_integers(a, b))\n"
      ],
      "metadata": {
        "colab": {
          "base_uri": "https://localhost:8080/"
        },
        "id": "PEhJYYhqsSvC",
        "outputId": "f8c500a4-f1d5-4035-b622-d083d0330e07"
      },
      "execution_count": 5,
      "outputs": [
        {
          "output_type": "stream",
          "name": "stdout",
          "text": [
            "Enter the first integer: 2\n",
            "Enter the second integer: 5\n",
            "The sum of 2 and 5 is: 7\n"
          ]
        }
      ]
    }
  ]
}