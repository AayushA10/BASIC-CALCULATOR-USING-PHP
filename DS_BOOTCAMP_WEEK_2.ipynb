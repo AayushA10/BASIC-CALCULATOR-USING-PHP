{
  "nbformat": 4,
  "nbformat_minor": 0,
  "metadata": {
    "colab": {
      "provenance": [],
      "authorship_tag": "ABX9TyMEkmTNE+SQPhbpvd0CQpjA",
      "include_colab_link": true
    },
    "kernelspec": {
      "name": "python3",
      "display_name": "Python 3"
    },
    "language_info": {
      "name": "python"
    }
  },
  "cells": [
    {
      "cell_type": "markdown",
      "metadata": {
        "id": "view-in-github",
        "colab_type": "text"
      },
      "source": [
        "<a href=\"https://colab.research.google.com/github/AayushA10/BASIC-CALCULATOR-USING-PHP/blob/main/DS_BOOTCAMP_WEEK_2.ipynb\" target=\"_parent\"><img src=\"https://colab.research.google.com/assets/colab-badge.svg\" alt=\"Open In Colab\"/></a>"
      ]
    },
    {
      "cell_type": "code",
      "execution_count": 1,
      "metadata": {
        "colab": {
          "base_uri": "https://localhost:8080/"
        },
        "id": "3ViIO_JC9SWD",
        "outputId": "7273a439-4627-4e79-80e7-879abff79ce1"
      },
      "outputs": [
        {
          "output_type": "stream",
          "name": "stdout",
          "text": [
            "Vertical Stack:\n",
            " [[ 1  2  3  4  5]\n",
            " [ 6  7  8  9 10]]\n",
            "Horizontal Stack:\n",
            " [ 1  2  3  4  5  6  7  8  9 10]\n"
          ]
        }
      ],
      "source": [
        "import numpy as np\n",
        "A = np.array([1, 2, 3, 4, 5])\n",
        "B = np.array([6, 7, 8, 9, 10])\n",
        "\n",
        "vertical_stack = np.vstack((A, B))\n",
        "print(\"Vertical Stack:\\n\", vertical_stack)\n",
        "\n",
        "horizontal_stack = np.hstack((A, B))\n",
        "print(\"Horizontal Stack:\\n\", horizontal_stack)\n"
      ]
    },
    {
      "cell_type": "code",
      "source": [
        "common_elements = np.intersect1d(A, B)\n",
        "print(\"Common Elements:\", common_elements)"
      ],
      "metadata": {
        "colab": {
          "base_uri": "https://localhost:8080/"
        },
        "id": "eoMtWv039dQC",
        "outputId": "d28a0940-1aad-4272-be2e-2cbf3d80ae23"
      },
      "execution_count": 2,
      "outputs": [
        {
          "output_type": "stream",
          "name": "stdout",
          "text": [
            "Common Elements: []\n"
          ]
        }
      ]
    },
    {
      "cell_type": "code",
      "source": [
        "filtered_numbers = A[np.where((A >= 5) & (A <= 10))]\n",
        "print(\"Numbers between 5 and 10:\", filtered_numbers)"
      ],
      "metadata": {
        "colab": {
          "base_uri": "https://localhost:8080/"
        },
        "id": "iUJM1LDB9iaA",
        "outputId": "4c28b670-a52a-4d94-cb48-c971a86134ea"
      },
      "execution_count": 3,
      "outputs": [
        {
          "output_type": "stream",
          "name": "stdout",
          "text": [
            "Numbers between 5 and 10: [5]\n"
          ]
        }
      ]
    },
    {
      "cell_type": "code",
      "source": [
        "\n",
        "url = 'https://archive.ics.uci.edu/ml/machine-learning-databases/iris/iris.data'\n",
        "iris_2d = np.genfromtxt(url, delimiter=',', dtype='float', usecols=[0, 1, 2, 3])\n",
        "\n",
        "\n",
        "filtered_iris = iris_2d[(iris_2d[:, 2] > 1.5) & (iris_2d[:, 0] < 5.0)]\n",
        "print(\"Filtered Iris Data:\\n\", filtered_iris)\n"
      ],
      "metadata": {
        "colab": {
          "base_uri": "https://localhost:8080/"
        },
        "id": "XzAL0IP59l6B",
        "outputId": "06e2963f-4e4a-4c27-ae10-9d9bdf312ed1"
      },
      "execution_count": 4,
      "outputs": [
        {
          "output_type": "stream",
          "name": "stdout",
          "text": [
            "Filtered Iris Data:\n",
            " [[4.8 3.4 1.6 0.2]\n",
            " [4.8 3.4 1.9 0.2]\n",
            " [4.7 3.2 1.6 0.2]\n",
            " [4.8 3.1 1.6 0.2]\n",
            " [4.9 2.4 3.3 1. ]\n",
            " [4.9 2.5 4.5 1.7]]\n"
          ]
        }
      ]
    },
    {
      "cell_type": "code",
      "source": [
        "import pandas as pd\n",
        "\n",
        "df = pd.read_csv('https://raw.githubusercontent.com/selva86/datasets/master/Cars93_miss.csv')\n",
        "\n",
        "filtered_df = df[['Manufacturer', 'Model', 'Type']].iloc[::20]\n",
        "print(filtered_df)\n"
      ],
      "metadata": {
        "colab": {
          "base_uri": "https://localhost:8080/"
        },
        "id": "XYE2M2s89sTE",
        "outputId": "a57a2095-fbc2-4d46-a3fb-c1257bcc65e6"
      },
      "execution_count": 5,
      "outputs": [
        {
          "output_type": "stream",
          "name": "stdout",
          "text": [
            "   Manufacturer    Model     Type\n",
            "0         Acura  Integra    Small\n",
            "20     Chrysler  LeBaron  Compact\n",
            "40        Honda  Prelude   Sporty\n",
            "60      Mercury   Cougar  Midsize\n",
            "80       Subaru   Loyale    Small\n"
          ]
        }
      ]
    },
    {
      "cell_type": "code",
      "source": [
        "import pandas as pd\n",
        "\n",
        "\n",
        "df = pd.read_csv('https://raw.githubusercontent.com/selva86/datasets/master/Cars93_miss.csv')\n",
        "\n",
        "\n",
        "df['Min.Price'] = df['Min.Price'].fillna(df['Min.Price'].mean())\n",
        "df['Max.Price'] = df['Max.Price'].fillna(df['Max.Price'].mean())\n",
        "print(df[['Min.Price', 'Max.Price']].isnull().sum())\n"
      ],
      "metadata": {
        "colab": {
          "base_uri": "https://localhost:8080/"
        },
        "id": "IqrCRn9X9x6t",
        "outputId": "02e56cab-bf24-45a4-fc5b-823207cacbe8"
      },
      "execution_count": 8,
      "outputs": [
        {
          "output_type": "stream",
          "name": "stdout",
          "text": [
            "Min.Price    0\n",
            "Max.Price    0\n",
            "dtype: int64\n"
          ]
        }
      ]
    },
    {
      "cell_type": "code",
      "source": [
        "\n",
        "df_random = pd.DataFrame(np.random.randint(10, 40, 60).reshape(-1, 4))\n",
        "\n",
        "rows_with_sum_gt_100 = df_random[df_random.sum(axis=1) > 100]\n",
        "print(\"Rows with row sum > 100:\\n\", rows_with_sum_gt_100)\n"
      ],
      "metadata": {
        "colab": {
          "base_uri": "https://localhost:8080/"
        },
        "id": "HOcarGik97PU",
        "outputId": "04ea4846-d54b-481f-97ed-6c84e00dee66"
      },
      "execution_count": 7,
      "outputs": [
        {
          "output_type": "stream",
          "name": "stdout",
          "text": [
            "Rows with row sum > 100:\n",
            "      0   1   2   3\n",
            "1   22  39  10  34\n",
            "2   39  14  15  39\n",
            "6   37  29  17  39\n",
            "7   38  32  24  25\n",
            "8   16  32  29  24\n",
            "11  17  39  27  24\n",
            "13  28  18  39  32\n",
            "14  29  18  25  29\n"
          ]
        }
      ]
    }
  ]
}